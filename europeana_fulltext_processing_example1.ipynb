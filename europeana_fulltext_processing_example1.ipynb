{
  "nbformat": 4,
  "nbformat_minor": 0,
  "metadata": {
    "colab": {
      "name": "europeana-fulltext-processing-example1",
      "provenance": [],
      "collapsed_sections": [],
      "authorship_tag": "ABX9TyNIutnJzLXUW4Ni6sFNg8lS",
      "include_colab_link": true
    },
    "kernelspec": {
      "name": "python3",
      "display_name": "Python 3"
    },
    "language_info": {
      "name": "python"
    }
  },
  "cells": [
    {
      "cell_type": "markdown",
      "metadata": {
        "id": "view-in-github",
        "colab_type": "text"
      },
      "source": [
        "<a href=\"https://colab.research.google.com/github/twagoo/europeana_colab/blob/master/europeana_fulltext_processing_example1.ipynb\" target=\"_parent\"><img src=\"https://colab.research.google.com/assets/colab-badge.svg\" alt=\"Open In Colab\"/></a>"
      ]
    },
    {
      "cell_type": "code",
      "source": [
        "#@title Imports and utility functions\n",
        "import json\n",
        "import logging\n",
        "import os\n",
        "import requests\n",
        "import tarfile\n",
        "import requests\n",
        "import shelve\n",
        "from lxml import etree\n",
        "\n",
        "TEXT_RESOURCE_PROFILE_ID = 'clarin.eu:cr1:p_1633000337997'\n",
        "CMD_NAMESPACES = {\n",
        "    'cmd': 'http://www.clarin.eu/cmd/1',\n",
        "    'cmdp': 'http://www.clarin.eu/cmd/1/profiles/clarin.eu:cr1:p_1633000337997'\n",
        "}\n",
        "FULLTEXT_RESOURCES_BASE_URL='https://www.europeana.eu/api/fulltext'\n",
        "\n",
        "logger = logging.getLogger(__name__)\n",
        "logging.basicConfig()\n",
        "logger.setLevel(logging.INFO)\n",
        "\n",
        "def flatten_list(t):\n",
        "  return [item for sublist in t for item in sublist]\n",
        "\n",
        "\n",
        "def retrieve_cmdis_archive(url, filename='cmdis.tgz'):\n",
        "  cmdis_zip = requests.get(url, allow_redirects=True)\n",
        "  with open(filename, 'wb') as tarball:\n",
        "    tarball.write(cmdis_zip.content)\n",
        "  return filename\n",
        "\n",
        "\n",
        "def unpack_collection(tarball_filename, target_dir, collection):\n",
        "  try:\n",
        "    with tarfile.open(tarball_filename, 'r:gz') as tarball:\n",
        "      if collection in tarball.getnames():\n",
        "        members = [tar_info for tar_info in tarball.getmembers()\n",
        "                  if tar_info.name.startswith(f'{collection}/')]\n",
        "        if len(members) > 0:\n",
        "          logger.info(f'Extracting {collection} from {tarball_filename} to {target_dir}/')\n",
        "          tarball.extractall(members=members, path=target_dir)\n",
        "          return True\n",
        "      else:\n",
        "        logger.warning(f'{collection} not found in tarball')\n",
        "  except Exception as ex:\n",
        "    logger.error(f'Something went wrong while trying to extract CMDIs from tarball: {ex}')\n",
        "  return False\n",
        "\n",
        "\n",
        "def index_filenames(index_def, cmdi_files_dir):\n",
        "  index = {}\n",
        "  for filename in os.listdir(cmdi_files_dir):\n",
        "    if not (filename.endswith(\".xml\") or filename.endswith(\".cmdi\")):\n",
        "      logger.info(f\"Skipping file {filename} (not an XML file)\")\n",
        "    else:\n",
        "      file_path = f'{cmdi_files_dir}/{filename}'\n",
        "      logger.debug(f'Processing file {file_path}')\n",
        "      # parse file\n",
        "      xmldoc = etree.parse(file_path)\n",
        "      # check if it's a text resource record\n",
        "      md_profile_values = xmldoc.xpath('/cmd:CMD/cmd:Header/cmd:MdProfile/text()', namespaces=CMD_NAMESPACES)\n",
        "      if not (TEXT_RESOURCE_PROFILE_ID in md_profile_values):\n",
        "        logger.info(f'Skipping file {filename} (not a text resource record)')\n",
        "      else:\n",
        "        # get resource refs\n",
        "        resource_refs = [ref for ref\n",
        "                        in xmldoc.xpath('/cmd:CMD/cmd:Resources/cmd:ResourceProxyList/cmd:ResourceProxy/cmd:ResourceRef/text()', namespaces=CMD_NAMESPACES)\n",
        "                        if ref.startswith(FULLTEXT_RESOURCES_BASE_URL)]\n",
        "        \n",
        "        # put in index according to definition\n",
        "        for index_key in index_def:\n",
        "          values = xmldoc.xpath(index_def[index_key], namespaces=CMD_NAMESPACES)\n",
        "          \n",
        "          if values and len(values) > 0:\n",
        "            # create and/or get index for current key\n",
        "            if not index.get(index_key, None):\n",
        "              # key has not been indexed\n",
        "              index[index_key] = {}\n",
        "            key_index = index[index_key]\n",
        "\n",
        "            # add refs to key/value index\n",
        "            for value in values:\n",
        "              if not key_index.get(value, None):\n",
        "                key_index[value] = []\n",
        "              key_index[value] += resource_refs\n",
        "  return index\n",
        "\n",
        "def get_json_from_http(url, session=None):\n",
        "    logger.debug(f\"Making request: {url}\")\n",
        "    if session is None:\n",
        "        response = requests.get(url).text\n",
        "    else:\n",
        "        response = session.get(url).text\n",
        "    logger.debug(f\"API response: {url}\")\n",
        "    try:\n",
        "        return json.loads(response)\n",
        "    except json.JSONDecodeError:\n",
        "        logger.error(f\"Error decoding response from {url}\")\n",
        "        return None\n",
        "\n",
        "\n",
        "def get_fulltext(urls_set, cache):\n",
        "  text = []\n",
        "  for url in urls_set:\n",
        "    from_cache = cache.get(url, None)\n",
        "    if from_cache:\n",
        "      # use from cache\n",
        "      text_value = from_cache\n",
        "    else:\n",
        "      # retrieve\n",
        "      logger.debug(f'Retrieving text from {url}')\n",
        "      json_response = get_json_from_http(url)\n",
        "      if json_response:\n",
        "        text_value = json_response.get('value', None)\n",
        "        if text_value:\n",
        "          cache[url] = text_value\n",
        "\n",
        "    if text_value:\n",
        "      text += [text_value]\n",
        "    else:\n",
        "      logger.warning(f'No response and/or text value at {url}')\n",
        "  return text"
      ],
      "metadata": {
        "cellView": "form",
        "id": "uEDlPNjTR1M5"
      },
      "execution_count": 105,
      "outputs": []
    },
    {
      "cell_type": "code",
      "source": [
        "#@title Constants and settings\n",
        "COUNTRY = \"Latvia\" #@param {type:\"string\"}\n",
        "\n",
        "INDEX_DEF = {\n",
        "    'language': '/cmd:CMD/cmd:Components/cmdp:TextResource/cmdp:Language/cmdp:code/text()',\n",
        "    'years': '/cmd:CMD/cmd:Components/cmdp:TextResource/cmdp:TemporalCoverage/cmdp:Start/cmdp:year/text()'\n",
        "}\n",
        "\n",
        "COLLECTIONS = {'Finland': '9200301', 'Latvia': '9200303', 'Luxembourg': '9200396'}\n",
        "if COUNTRY in COLLECTIONS:\n",
        "  COLLECTION = COLLECTIONS[COUNTRY]\n",
        "else:\n",
        "  raise RuntimeError(f\"Country name '{COUNTRY}' not in collections dictionary keys: {list(COLLECTIONS)}\")\n",
        "\n",
        "CMDI_TARBALL_URL='https://alpha-vlo.clarin.eu/data/test/europeana-aggregations.tar.gz'\n",
        "\n",
        "CMDIS_DIR='./cmdis'\n",
        "OUTPUT_DIR='./output'\n",
        "\n",
        "cache={}"
      ],
      "metadata": {
        "id": "aAJBsxBFQq3y"
      },
      "execution_count": 86,
      "outputs": []
    },
    {
      "cell_type": "code",
      "execution_count": 24,
      "metadata": {
        "id": "_Wcdg2mTnnIL",
        "colab": {
          "base_uri": "https://localhost:8080/"
        },
        "outputId": "bc8d1046-8a31-45d8-9c9b-86e4c22ad278"
      },
      "outputs": [
        {
          "output_type": "stream",
          "name": "stderr",
          "text": [
            "INFO:__main__:Retrieving CMDIs\n"
          ]
        }
      ],
      "source": [
        "logger.info('Retrieving CMDIs')\n",
        "tarball_filename = retrieve_cmdis_archive(CMDI_TARBALL_URL)"
      ]
    },
    {
      "cell_type": "code",
      "source": [
        "logger.info(f'Reading tarball contents (looking for {COLLECTION})')\n",
        "\n",
        "if not unpack_collection(tarball_filename, CMDIS_DIR, COLLECTION):\n",
        "  raise RuntimeError(f'Failed to extract member {collection} from tarball!')\n",
        "\n",
        "COLLECTION_FILES_DIR=f'{CMDIS_DIR}/{COLLECTION}'\n",
        "logger.info(f'CMDI files available in {COLLECTION_FILES_DIR}/')"
      ],
      "metadata": {
        "id": "4rTuvO3kIYg9",
        "colab": {
          "base_uri": "https://localhost:8080/"
        },
        "outputId": "7bc0a8ac-f119-4d71-a634-61e758c0de5b"
      },
      "execution_count": 25,
      "outputs": [
        {
          "output_type": "stream",
          "name": "stderr",
          "text": [
            "INFO:__main__:Reading tarball contents (looking for 9200303)\n",
            "INFO:__main__:Extracting 9200303 from cmdis.tgz to ./cmdis/\n",
            "INFO:__main__:CMDI files available in ./cmdis/9200303/\n"
          ]
        }
      ]
    },
    {
      "cell_type": "code",
      "source": [
        "logger.info('Indexing resource links from records')\n",
        "index = index_filenames(INDEX_DEF, COLLECTION_FILES_DIR)"
      ],
      "metadata": {
        "colab": {
          "base_uri": "https://localhost:8080/"
        },
        "id": "4I3BiqAgXBha",
        "outputId": "cffc59c5-c906-4b1d-e79a-5649a8ade4f9"
      },
      "execution_count": 26,
      "outputs": [
        {
          "output_type": "stream",
          "name": "stderr",
          "text": [
            "INFO:__main__:Indexing resource links from records\n",
            "INFO:__main__:Skipping file Wentspils_Apskats_collection.cmdi (not a text resource record)\n",
            "INFO:__main__:Skipping file Jaun__Dz_ve_collection.cmdi (not a text resource record)\n",
            "INFO:__main__:Skipping file R_gas_Pils_tas_Policijas_Av_ze_collection.cmdi (not a text resource record)\n",
            "INFO:__main__:Skipping file Sarkanais_Sports_collection.cmdi (not a text resource record)\n",
            "INFO:__main__:Skipping file Zemgale_collection.cmdi (not a text resource record)\n",
            "INFO:__main__:Skipping file Bit_te_collection.cmdi (not a text resource record)\n",
            "INFO:__main__:Skipping file _Drywas__Ziniskajs_pilykums_collection.cmdi (not a text resource record)\n",
            "INFO:__main__:Skipping file Kurzeme_collection.cmdi (not a text resource record)\n",
            "INFO:__main__:Skipping file Latvijas_PSR_Augst_k_s_Padomes_prezidija_zi_ot_js_collection.cmdi (not a text resource record)\n",
            "INFO:__main__:Skipping file Jaun__Straume_collection.cmdi (not a text resource record)\n",
            "INFO:__main__:Skipping file Jaun__Av_ze_collection.cmdi (not a text resource record)\n",
            "INFO:__main__:Skipping file Kuld_gas_Balss_collection.cmdi (not a text resource record)\n",
            "INFO:__main__:Skipping file Kuld_gas_Zi_as_collection.cmdi (not a text resource record)\n",
            "INFO:__main__:Skipping file Goriga_Maize___Drywas__pilykums_collection.cmdi (not a text resource record)\n",
            "INFO:__main__:Skipping file Str_dnieks_collection.cmdi (not a text resource record)\n",
            "INFO:__main__:Skipping file ________collection.cmdi (not a text resource record)\n",
            "INFO:__main__:Skipping file Vidzemnieks_collection.cmdi (not a text resource record)\n",
            "INFO:__main__:Skipping file Apskats_collection.cmdi (not a text resource record)\n",
            "INFO:__main__:Skipping file Zemn_ka_Zi_as_collection.cmdi (not a text resource record)\n",
            "INFO:__main__:Skipping file Ventspils_Av_ze_collection.cmdi (not a text resource record)\n",
            "INFO:__main__:Skipping file M_su_Laiki_collection.cmdi (not a text resource record)\n",
            "INFO:__main__:Skipping file Kurlm_mo_Dz_ve_collection.cmdi (not a text resource record)\n",
            "INFO:__main__:Skipping file Kurzemes_Zi_as_collection.cmdi (not a text resource record)\n",
            "INFO:__main__:Skipping file Noma_nieku_V_stnesis_collection.cmdi (not a text resource record)\n",
            "INFO:__main__:Skipping file Auseklis__collection.cmdi (not a text resource record)\n",
            "INFO:__main__:Skipping file Dzwon_collection.cmdi (not a text resource record)\n",
            "INFO:__main__:Skipping file Valmieras_Zi_ojumu_Lapa_collection.cmdi (not a text resource record)\n",
            "INFO:__main__:Skipping file C__a_collection.cmdi (not a text resource record)\n",
            "INFO:__main__:Skipping file Jaun__Dienas_Lapa_collection.cmdi (not a text resource record)\n",
            "INFO:__main__:Skipping file Latgal_ts_collection.cmdi (not a text resource record)\n",
            "INFO:__main__:Skipping file Vien_bas_V_stnesis_collection.cmdi (not a text resource record)\n",
            "INFO:__main__:Skipping file Jaunais_Ventspils_Apskats_collection.cmdi (not a text resource record)\n",
            "INFO:__main__:Skipping file Vald_bas_V_stnesis_collection.cmdi (not a text resource record)\n",
            "INFO:__main__:Skipping file Zieme_latvija_collection.cmdi (not a text resource record)\n",
            "INFO:__main__:Skipping file Dienas_Lapa_collection.cmdi (not a text resource record)\n",
            "INFO:__main__:Skipping file Latvijas_Kareivis_collection.cmdi (not a text resource record)\n",
            "INFO:__main__:Skipping file Limba_u_V_stnesis_collection.cmdi (not a text resource record)\n",
            "INFO:__main__:Skipping file Mitausche_Zeitung_collection.cmdi (not a text resource record)\n",
            "INFO:__main__:Skipping file Orojs___Drywas__pilykums_collection.cmdi (not a text resource record)\n",
            "INFO:__main__:Skipping file Zemgalietis_collection.cmdi (not a text resource record)\n",
            "INFO:__main__:Skipping file T_lavietis_collection.cmdi (not a text resource record)\n",
            "INFO:__main__:Skipping file Pils_ta_un_Lauki_collection.cmdi (not a text resource record)\n",
            "INFO:__main__:Skipping file _Wentspils_Apskata__Sv_tdienas_pielikums_collection.cmdi (not a text resource record)\n",
            "INFO:__main__:Skipping file _a_______________collection.cmdi (not a text resource record)\n",
            "INFO:__main__:Skipping file _Drywas__Gorigajs_pilykums_collection.cmdi (not a text resource record)\n",
            "INFO:__main__:Skipping file Jaun_k_s_Zi_as_collection.cmdi (not a text resource record)\n",
            "INFO:__main__:Skipping file Jaunais_V_rds_collection.cmdi (not a text resource record)\n",
            "INFO:__main__:Skipping file index.json (not an XML file)\n",
            "INFO:__main__:Skipping file Ilustr_tais__urn_ls_collection.cmdi (not a text resource record)\n",
            "INFO:__main__:Skipping file Kuld_gas_V_stnesis_collection.cmdi (not a text resource record)\n",
            "INFO:__main__:Skipping file Valmieras_Zi_ot_js_collection.cmdi (not a text resource record)\n",
            "INFO:__main__:Skipping file Latvija_collection.cmdi (not a text resource record)\n",
            "INFO:__main__:Skipping file Kurzemnieks_collection.cmdi (not a text resource record)\n",
            "INFO:__main__:Skipping file Rigasche_Rundschau_collection.cmdi (not a text resource record)\n",
            "INFO:__main__:Skipping file M_jas_Draugs_collection.cmdi (not a text resource record)\n",
            "INFO:__main__:Skipping file R_gas_Apskats_collection.cmdi (not a text resource record)\n",
            "INFO:__main__:Skipping file Latvijas__aha_V_stnesis_collection.cmdi (not a text resource record)\n",
            "INFO:__main__:Skipping file Br_v__Zeme_collection.cmdi (not a text resource record)\n",
            "INFO:__main__:Skipping file Auseklis_collection.cmdi (not a text resource record)\n",
            "INFO:__main__:Skipping file Kurzemes_V_rds_collection.cmdi (not a text resource record)\n",
            "INFO:__main__:Skipping file Zemn_ka_Bolss_collection.cmdi (not a text resource record)\n",
            "INFO:__main__:Skipping file Gaisma_collection.cmdi (not a text resource record)\n",
            "INFO:__main__:Skipping file S_kla_collection.cmdi (not a text resource record)\n",
            "INFO:__main__:Skipping file Valmierietis_collection.cmdi (not a text resource record)\n",
            "INFO:__main__:Skipping file Zemgales_Balss_collection.cmdi (not a text resource record)\n",
            "INFO:__main__:Skipping file Gaisma__collection.cmdi (not a text resource record)\n",
            "INFO:__main__:Skipping file Ventas_Balss_collection.cmdi (not a text resource record)\n",
            "INFO:__main__:Skipping file R_gas_Av_ze_collection.cmdi (not a text resource record)\n",
            "INFO:__main__:Skipping file Uz_priek_u__collection.cmdi (not a text resource record)\n",
            "INFO:__main__:Skipping file Baltijas_V_stnesis_collection.cmdi (not a text resource record)\n",
            "INFO:__main__:Skipping file Goldingenscher_Anzeiger_collection.cmdi (not a text resource record)\n",
            "INFO:__main__:Skipping file Limba_u_Zi_as_collection.cmdi (not a text resource record)\n",
            "INFO:__main__:Skipping file Drywa_collection.cmdi (not a text resource record)\n",
            "INFO:__main__:Skipping file Jaunas_Zinias_collection.cmdi (not a text resource record)\n",
            "INFO:__main__:Skipping file Ventas_Straume_collection.cmdi (not a text resource record)\n",
            "INFO:__main__:Skipping file Jaunais_Kurzemnieks_collection.cmdi (not a text resource record)\n",
            "INFO:__main__:Skipping file Windausche_Zeitung_collection.cmdi (not a text resource record)\n",
            "INFO:__main__:Skipping file Anzeiger_f_r_Goldingen_und_Windau_collection.cmdi (not a text resource record)\n"
          ]
        }
      ]
    },
    {
      "cell_type": "code",
      "source": [
        "logger.info('Index summary:')\n",
        "for index_key in index:\n",
        "  key_index = index[index_key]\n",
        "  logger.info(f'{index_key}: {sorted(list(key_index))}')"
      ],
      "metadata": {
        "colab": {
          "base_uri": "https://localhost:8080/"
        },
        "id": "lKzeYkq3ODlH",
        "outputId": "e416284a-0b5e-4517-ce2e-a7d1c99bd0ad"
      },
      "execution_count": 74,
      "outputs": [
        {
          "output_type": "stream",
          "name": "stderr",
          "text": [
            "INFO:__main__:Index summary:\n",
            "INFO:__main__:language: ['deu', 'est', 'lav', 'pol', 'rus']\n",
            "INFO:__main__:years: ['1868', '1869', '1870', '1871', '1872', '1873', '1874', '1875', '1876', '1877', '1878', '1879', '1880', '1881', '1882', '1883', '1884', '1885', '1886', '1887', '1888', '1889', '1890', '1891', '1892', '1893', '1894', '1895', '1896', '1897', '1898', '1899', '1900', '1901', '1902', '1903', '1904', '1905', '1906', '1907', '1908', '1909', '1910', '1911', '1912', '1913', '1914', '1915', '1916', '1917', '1918', '1919', '1920', '1921', '1922', '1923', '1924', '1925', '1926', '1927', '1928', '1929', '1930', '1931', '1932', '1933', '1934', '1935', '1936', '1937', '1938', '1939', '1940', '1941', '1942', '1943', '1944', '1945', '1946']\n"
          ]
        }
      ]
    },
    {
      "cell_type": "code",
      "source": [
        "# Create segments, then retrieve text\n",
        "\n",
        "urls_lav = set(index['language']['lav'])\n",
        "urls_deu = set(index['language']['deu'])\n",
        "urls_20s = set(flatten_list([ index['years'][year] for year in list(index['years']) if (int(year) >= 1920) and (int(year) < 1930) ]))\n",
        "urls_30s = set(flatten_list([ index['years'][year] for year in list(index['years']) if (int(year) >= 1930) and (int(year) < 1940) ]))\n",
        "\n",
        "# make intersections\n",
        "segments_urls = {\n",
        "  # 'urls_lav_20s': urls_lav.intersection(urls_20s),\n",
        "  # 'urls_lav_30s': urls_lav.intersection(urls_30s),\n",
        "  'urls_deu_20s': urls_deu.intersection(urls_20s),\n",
        "  'urls_deu_30s': urls_deu.intersection(urls_30s),\n",
        "}\n"
      ],
      "metadata": {
        "id": "I770cIOfJlOQ"
      },
      "execution_count": 101,
      "outputs": []
    },
    {
      "cell_type": "code",
      "source": [
        "# retrieve text for segments\n",
        "segments_text = {}\n",
        "with shelve.open('fulltext_cache') as cache:\n",
        "  for seg_name in segments_urls:\n",
        "    urls = segments_urls[seg_name]\n",
        "    logger.info(f\"Retrieving text content for segment '{seg_name}' ({len(urls)} urls)\")\n",
        "    segments_text[seg_name] = get_fulltext(urls, cache)"
      ],
      "metadata": {
        "colab": {
          "base_uri": "https://localhost:8080/"
        },
        "id": "BrXwQcC0e2pV",
        "outputId": "417e8991-fb6f-43f4-85be-307a8e4be1b1"
      },
      "execution_count": 106,
      "outputs": [
        {
          "output_type": "stream",
          "name": "stderr",
          "text": [
            "INFO:__main__:Retrieving text content for segment 'urls_deu_20s' (3079 urls)\n",
            "INFO:__main__:Retrieving text content for segment 'urls_deu_30s' (283 urls)\n"
          ]
        }
      ]
    },
    {
      "cell_type": "code",
      "source": [
        "# save retrieved text to file\n",
        "os.makedirs(OUTPUT_DIR, exist_ok=True)\n",
        "for seg_name in segments_text:\n",
        "  filename=f'{OUTPUT_DIR}/{seg_name}.txt'\n",
        "  with open(filename, 'w') as file:\n",
        "    logger.info(f\"Writing all text for segment '{seg_name}' to '{filename}'\")\n",
        "    written = sum([file.write(text) for text in segments_text[seg_name]])\n",
        "    logger.info(f'{written} characters written')"
      ],
      "metadata": {
        "colab": {
          "base_uri": "https://localhost:8080/"
        },
        "id": "rlOP7V3Oe6om",
        "outputId": "4ea7da24-3071-4c38-bfec-108c6b9254b9"
      },
      "execution_count": 110,
      "outputs": [
        {
          "output_type": "stream",
          "name": "stderr",
          "text": [
            "INFO:__main__:Writing all text for segment 'urls_deu_20s' to './output/urls_deu_20s.txt'\n",
            "INFO:__main__:41932571 characters written\n",
            "INFO:__main__:Writing all text for segment 'urls_deu_30s' to './output/urls_deu_30s.txt'\n",
            "INFO:__main__:1648545 characters written\n"
          ]
        }
      ]
    },
    {
      "cell_type": "code",
      "source": [
        "# send to voyant"
      ],
      "metadata": {
        "id": "Y4-IbXyKhSse"
      },
      "execution_count": null,
      "outputs": []
    }
  ]
}