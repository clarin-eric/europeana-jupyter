{
 "cells": [
  {
   "cell_type": "markdown",
   "metadata": {
    "id": "R37WTGe-Y-fx"
   },
   "source": [
    "# Preamble: imports, logic and configuration"
   ]
  },
  {
   "cell_type": "code",
   "execution_count": 4,
   "metadata": {},
   "outputs": [
    {
     "name": "stdout",
     "output_type": "stream",
     "text": [
      "Requirement already satisfied: lxml in /opt/conda/lib/python3.9/site-packages (4.7.1)\n",
      "Note: you may need to restart the kernel to use updated packages.\n"
     ]
    }
   ],
   "source": [
    "%pip install lxml"
   ]
  },
  {
   "cell_type": "code",
   "execution_count": 5,
   "metadata": {
    "id": "uEDlPNjTR1M5"
   },
   "outputs": [],
   "source": [
    "#@title Imports and utility functions\n",
    "import ipywidgets as widgets\n",
    "import json\n",
    "import logging\n",
    "import os\n",
    "import requests\n",
    "import tarfile\n",
    "import tensorflow as tf\n",
    "import requests\n",
    "import shelve\n",
    "import sqlite3\n",
    "\n",
    "from lxml import etree\n",
    "from IPython.display import display\n",
    "from pathlib import Path\n",
    "\n",
    "\n",
    "TEXT_RESOURCE_PROFILE_ID = 'clarin.eu:cr1:p_1633000337997'\n",
    "CMD_NAMESPACES = {\n",
    "    'cmd': 'http://www.clarin.eu/cmd/1',\n",
    "    'cmdp': 'http://www.clarin.eu/cmd/1/profiles/clarin.eu:cr1:p_1633000337997'\n",
    "}\n",
    "FULLTEXT_RESOURCES_BASE_URL='https://www.europeana.eu/api/fulltext'\n",
    "\n",
    "logger = logging.getLogger(__name__)\n",
    "logging.basicConfig()\n",
    "logger.setLevel(logging.INFO)\n",
    "\n",
    "script_path = os.getcwd()\n",
    "\n",
    "def flatten_list(t):\n",
    "  return [item for sublist in t for item in sublist]\n",
    "\n",
    "\n",
    "def retrieve_cmdis_archive(url, filename='cmdis.tgz'):\n",
    "  cmdis_zip = requests.get(url, allow_redirects=True)\n",
    "  with open(filename, 'wb') as tarball:\n",
    "    tarball.write(cmdis_zip.content)\n",
    "  return filename\n",
    "\n",
    "\n",
    "def unpack_collection(tarball_filename, target_dir, collection):\n",
    "  try:\n",
    "    with tarfile.open(tarball_filename, 'r:gz') as tarball:\n",
    "      if collection in tarball.getnames():\n",
    "        members = [tar_info for tar_info in tarball.getmembers()\n",
    "                  if tar_info.name.startswith(f'{collection}/')]\n",
    "        if len(members) > 0:\n",
    "          logger.info(f'Extracting {collection} from {tarball_filename} to {target_dir}/')\n",
    "          tarball.extractall(members=members, path=target_dir)\n",
    "          return True\n",
    "      else:\n",
    "        logger.warning(f'{collection} not found in tarball')\n",
    "  except Exception as ex:\n",
    "    logger.error(f'Something went wrong while trying to extract CMDIs from tarball: {ex}')\n",
    "  return False\n",
    "\n",
    "\n",
    "def index_filenames(index_def, cmdi_files_dir):\n",
    "  index = {}\n",
    "  for filename in os.listdir(cmdi_files_dir):\n",
    "    if not (filename.endswith(\".xml\") or filename.endswith(\".cmdi\")):\n",
    "      logger.info(f\"Skipping file {filename} (not an XML file)\")\n",
    "    else:\n",
    "      file_path = f'{cmdi_files_dir}/{filename}'\n",
    "      logger.debug(f'Processing file {file_path}')\n",
    "      # parse file\n",
    "      xmldoc = etree.parse(file_path)\n",
    "      # check if it's a text resource record\n",
    "      md_profile_values = xmldoc.xpath('/cmd:CMD/cmd:Header/cmd:MdProfile/text()', namespaces=CMD_NAMESPACES)\n",
    "      if not (TEXT_RESOURCE_PROFILE_ID in md_profile_values):\n",
    "        logger.debug(f'Skipping file {filename} (not a text resource record)')\n",
    "      else:\n",
    "        # get resource refs\n",
    "        resource_refs = [ref for ref\n",
    "                        in xmldoc.xpath('/cmd:CMD/cmd:Resources/cmd:ResourceProxyList/cmd:ResourceProxy/cmd:ResourceRef/text()', namespaces=CMD_NAMESPACES)\n",
    "                        if ref.startswith(FULLTEXT_RESOURCES_BASE_URL)]\n",
    "        \n",
    "        # put in index according to definition\n",
    "        for index_key in index_def:\n",
    "          values = xmldoc.xpath(index_def[index_key], namespaces=CMD_NAMESPACES)\n",
    "          \n",
    "          if values and len(values) > 0:\n",
    "            # create and/or get index for current key\n",
    "            if not index.get(index_key, None):\n",
    "              # key has not been indexed\n",
    "              index[index_key] = {}\n",
    "            key_index = index[index_key]\n",
    "\n",
    "            # add refs to key/value index\n",
    "            for value in values:\n",
    "              if not key_index.get(value, None):\n",
    "                key_index[value] = []\n",
    "              key_index[value] += resource_refs\n",
    "  return index\n",
    "\n",
    "def get_json_from_http(url, session=None):\n",
    "    logger.debug(f\"Making request: {url}\")\n",
    "    if session is None:\n",
    "        response = requests.get(url).text\n",
    "    else:\n",
    "        response = session.get(url).text\n",
    "    logger.debug(f\"API response: {url}\")\n",
    "    try:\n",
    "        return json.loads(response)\n",
    "    except json.JSONDecodeError:\n",
    "        logger.error(f\"Error decoding response from {url}\")\n",
    "        return None\n",
    "\n",
    "def get_from_db(cur, url):\n",
    "  #cur = db_conn.cursor()\n",
    "  cur.execute(\"SELECT ft FROM fulltext WHERE url=?\", (url,))\n",
    "  rows = cur.fetchall()\n",
    "  if len(rows) > 0:\n",
    "    return rows[0][0]\n",
    "\n",
    "def save_to_db(cur, url, text):\n",
    "  #cur = db_conn.cursor()\n",
    "  cur.execute(\"INSERT INTO fulltext(url, ft) VALUES(?,?)\", (url, text))\n",
    "  db_conn.commit()\n",
    "\n",
    "def get_fulltext(urls_set, db_conn, progress_cb=None):\n",
    "  text = []\n",
    "  downloaded = 0\n",
    "  cur = db_conn.cursor()\n",
    "  for url in urls_set:\n",
    "    from_cache = get_from_db(cur, url)\n",
    "    if from_cache:\n",
    "      # use from cache\n",
    "      text_value = from_cache\n",
    "    else:\n",
    "      # retrieve\n",
    "      logger.debug(f'Retrieving text from {url}')\n",
    "      json_response = get_json_from_http(url)\n",
    "      if json_response:\n",
    "        text_value = json_response.get('value', None)\n",
    "        if text_value:\n",
    "          save_to_db(cur, url, text_value)\n",
    "          downloaded += 1\n",
    "          if downloaded % 100 == 0:\n",
    "            cur.close()\n",
    "            db_conn.commit()\n",
    "            cur = db_conn.cursor()\n",
    "\n",
    "    if text_value:\n",
    "      text += [text_value]\n",
    "      if progress_cb:\n",
    "        progress_cb(1)\n",
    "    else:\n",
    "      logger.warning(f'No response and/or text value at {url}')\n",
    "  cur.close()\n",
    "  return text"
   ]
  },
  {
   "cell_type": "code",
   "execution_count": 6,
   "metadata": {
    "id": "aAJBsxBFQq3y"
   },
   "outputs": [],
   "source": [
    "#@title Constants and settings\n",
    "COLLECTIONS = {'Finland': '9200301', 'Latvia': '9200303', 'Luxembourg': '9200396'}\n",
    "COLLECTION_NAME = \"Latvia\" #@param [\"Finland\", \"Latvia\", \"Luxembourg\"]\n",
    "COLLECTION = COLLECTIONS[COLLECTION_NAME]\n",
    "\n",
    "INDEX_DEF = {\n",
    "    'language': '/cmd:CMD/cmd:Components/cmdp:TextResource/cmdp:Language/cmdp:code/text()',\n",
    "    'years': '/cmd:CMD/cmd:Components/cmdp:TextResource/cmdp:TemporalCoverage/cmdp:Start/cmdp:year/text()'\n",
    "}\n",
    "\n",
    "CMDI_TARBALL_URL = 'https://alpha-vlo.clarin.eu/data/test/europeana-aggregations.tar.gz'\n",
    "\n",
    "CMDIS_DIR = 'cmdis'\n",
    "OUTPUT_DIR = 'output'\n",
    "\n",
    "OUTPUT_ON_GOOGLE_DRIVE = False\n",
    "GOOGLE_DRIVE_BASE_DIR = '/gdrive/My Drive/colab/europeana_fulltext'\n",
    "\n",
    "CACHE_ON_GOOGLE_DRIVE = False\n",
    "DRIVE_CACHE_DIR = GOOGLE_DRIVE_BASE_DIR"
   ]
  },
  {
   "cell_type": "markdown",
   "metadata": {
    "id": "nD6JXHZBY0BA"
   },
   "source": [
    "# Retrieval and indexing of the CMDI metadata for the newspaper collections"
   ]
  },
  {
   "cell_type": "markdown",
   "metadata": {
    "id": "s6uSm-GTZi7G"
   },
   "source": [
    "First we need to download an archive (`.tar.gz` file) from the CLARIN server"
   ]
  },
  {
   "cell_type": "code",
   "execution_count": 7,
   "metadata": {
    "colab": {
     "base_uri": "https://localhost:8080/"
    },
    "id": "_Wcdg2mTnnIL",
    "outputId": "a1e2530a-deb6-488f-bf19-d740093f48b8"
   },
   "outputs": [
    {
     "name": "stderr",
     "output_type": "stream",
     "text": [
      "INFO:__main__:Retrieving CMDIs\n"
     ]
    }
   ],
   "source": [
    "logger.info('Retrieving CMDIs')\n",
    "tarball_filename = retrieve_cmdis_archive(CMDI_TARBALL_URL)"
   ]
  },
  {
   "cell_type": "markdown",
   "metadata": {
    "id": "xRMOY0SQZZsv"
   },
   "source": [
    "Next we unpack the collection that we are interested in from the downloaded archive, so that we can access the individual metadata records"
   ]
  },
  {
   "cell_type": "code",
   "execution_count": 8,
   "metadata": {
    "colab": {
     "base_uri": "https://localhost:8080/"
    },
    "id": "4rTuvO3kIYg9",
    "outputId": "e874bff0-31e3-4b13-b0fc-29664bc42e80"
   },
   "outputs": [
    {
     "name": "stderr",
     "output_type": "stream",
     "text": [
      "INFO:__main__:Reading tarball contents (looking for 9200303)\n",
      "INFO:__main__:Extracting 9200303 from cmdis.tgz to cmdis/\n",
      "INFO:__main__:CMDI files available in cmdis/9200303/\n"
     ]
    }
   ],
   "source": [
    "logger.info(f'Reading tarball contents (looking for {COLLECTION})')\n",
    "\n",
    "if not unpack_collection(tarball_filename, CMDIS_DIR, COLLECTION):\n",
    "  raise RuntimeError(f'Failed to extract member {COLLECTION} from tarball!')\n",
    "\n",
    "COLLECTION_FILES_DIR=f'{CMDIS_DIR}/{COLLECTION}'\n",
    "logger.info(f'CMDI files available in {COLLECTION_FILES_DIR}/')"
   ]
  },
  {
   "cell_type": "markdown",
   "metadata": {
    "id": "GMxzoPcPZMzo"
   },
   "source": [
    "The metadata records are now available to be processed.\n",
    "\n",
    "In the next cell, the links to the full text resources are **indexed** based on the index definition in the configuration section."
   ]
  },
  {
   "cell_type": "code",
   "execution_count": 9,
   "metadata": {
    "colab": {
     "base_uri": "https://localhost:8080/"
    },
    "id": "4I3BiqAgXBha",
    "outputId": "e4f5ae38-a430-4048-92ef-0561a17ca7cc"
   },
   "outputs": [
    {
     "name": "stderr",
     "output_type": "stream",
     "text": [
      "INFO:__main__:Indexing resource links from records\n",
      "INFO:__main__:Skipping file index.json (not an XML file)\n"
     ]
    }
   ],
   "source": [
    "logger.info('Indexing resource links from records')\n",
    "index = index_filenames(INDEX_DEF, COLLECTION_FILES_DIR)"
   ]
  },
  {
   "cell_type": "code",
   "execution_count": 10,
   "metadata": {
    "colab": {
     "base_uri": "https://localhost:8080/"
    },
    "id": "lKzeYkq3ODlH",
    "outputId": "b0cf2a92-ec81-4b30-b686-699867fceb8c"
   },
   "outputs": [
    {
     "name": "stderr",
     "output_type": "stream",
     "text": [
      "INFO:__main__:Index summary:\n",
      "INFO:__main__:language: ['deu', 'est', 'lav', 'pol', 'rus']\n",
      "INFO:__main__:years: ['1868', '1869', '1870', '1871', '1872', '1873', '1874', '1875', '1876', '1877', '1878', '1879', '1880', '1881', '1882', '1883', '1884', '1885', '1886', '1887', '1888', '1889', '1890', '1891', '1892', '1893', '1894', '1895', '1896', '1897', '1898', '1899', '1900', '1901', '1902', '1903', '1904', '1905', '1906', '1907', '1908', '1909', '1910', '1911', '1912', '1913', '1914', '1915', '1916', '1917', '1918', '1919', '1920', '1921', '1922', '1923', '1924', '1925', '1926', '1927', '1928', '1929', '1930', '1931', '1932', '1933', '1934', '1935', '1936', '1937', '1938', '1939', '1940', '1941', '1942', '1943', '1944', '1945', '1946']\n"
     ]
    }
   ],
   "source": [
    "logger.info('Index summary:')\n",
    "for index_key in index:\n",
    "  key_index = index[index_key]\n",
    "  logger.info(f'{index_key}: {sorted(list(key_index))}')"
   ]
  },
  {
   "cell_type": "markdown",
   "metadata": {
    "id": "ZO2tmTSCZ63l"
   },
   "source": [
    "# Prepare for processing"
   ]
  },
  {
   "cell_type": "code",
   "execution_count": 12,
   "metadata": {
    "colab": {
     "base_uri": "https://localhost:8080/"
    },
    "id": "v7cUTztePEcg",
    "outputId": "892cb505-2bfa-41c5-e3ce-131a590409cb"
   },
   "outputs": [
    {
     "name": "stderr",
     "output_type": "stream",
     "text": [
      "INFO:__main__:Connect: <sqlite3.Connection object at 0x7f84541d8c60>\n",
      "INFO:__main__:Database file: /home/jovyan/work/fulltext_cache/fulltext.db\n"
     ]
    },
    {
     "name": "stdout",
     "output_type": "stream",
     "text": [
      "/home/jovyan/work/fulltext_cache\n"
     ]
    }
   ],
   "source": [
    "db_name = 'fulltext.db'\n",
    "\n",
    "def create_db(db_dir, db_name):\n",
    "  %cd \"$db_dir\"\n",
    "  with sqlite3.connect(db_name) as db_conn:\n",
    "    logger.info(f'Connect: {db_conn}')\n",
    "    db_conn.execute(\"CREATE TABLE IF NOT EXISTS fulltext(url text, ft text)\")\n",
    "    db_conn.execute(\"CREATE UNIQUE INDEX IF NOT EXISTS index_fulltext_url ON fulltext(url)\")\n",
    "\n",
    "# prepare persistent cache on drive\n",
    "if CACHE_ON_GOOGLE_DRIVE:\n",
    "  from google.colab import drive\n",
    "  drive.mount('/gdrive')\n",
    "  os.makedirs(DRIVE_CACHE_DIR, exist_ok=True)\n",
    "  db_dir=DRIVE_CACHE_DIR\n",
    "else:\n",
    "  db_dir=f'{script_path}/fulltext_cache'\n",
    "  os.makedirs(db_dir, exist_ok=True)\n",
    "\n",
    "create_db(db_dir, db_name)\n",
    "db_path=f'{db_dir}/{db_name}'\n",
    "\n",
    "logger.info(f'Database file: {db_path}')"
   ]
  },
  {
   "cell_type": "markdown",
   "metadata": {
    "id": "DilOg5ezZ-Vt"
   },
   "source": [
    "First, we segment the data based on properties from the metadata. In this case, we use language and year of publication."
   ]
  },
  {
   "cell_type": "code",
   "execution_count": 13,
   "metadata": {
    "id": "I770cIOfJlOQ"
   },
   "outputs": [],
   "source": [
    "# Create segments, then retrieve text\n",
    "\n",
    "urls_lav = set(index['language']['lav'])\n",
    "urls_deu = set(index['language']['deu'])\n",
    "urls_20s = set(flatten_list([ index['years'][year] for year in list(index['years']) if (int(year) >= 1920) and (int(year) < 1930) ]))\n",
    "urls_30s = set(flatten_list([ index['years'][year] for year in list(index['years']) if (int(year) >= 1930) and (int(year) < 1940) ]))\n",
    "\n",
    "# make intersections\n",
    "segments_urls = {\n",
    "  'deu_20s': urls_deu.intersection(urls_20s), #3k urls\n",
    "  'deu_30s': urls_deu.intersection(urls_30s), #283 urls\n",
    "  'lav_20s': urls_lav.intersection(urls_20s), #97k urls\n",
    "  'lav_30s': urls_lav.intersection(urls_30s)\n",
    "}"
   ]
  },
  {
   "cell_type": "markdown",
   "metadata": {
    "id": "PfzouzPCaJ61"
   },
   "source": [
    "So far, we only have resource URLs. In the next cell, the actual full text content is downloaded (and/or retrieved from cache) for the URLs in the segments that we have defined. \n",
    "\n",
    "Note that this can take a while!"
   ]
  },
  {
   "cell_type": "code",
   "execution_count": 14,
   "metadata": {
    "id": "qPINNtpStDKu"
   },
   "outputs": [],
   "source": [
    "# define widgets to visualize download progress\n",
    "download_total = sum([len(segments_urls[seg_name]) for seg_name in segments_urls])\n",
    "progress_bar = widgets.IntProgress(\n",
    "  min = 0, max = download_total,\n",
    "  description = 'Retrieving:', bar_style = 'info',\n",
    ")\n",
    "progress_label = widgets.Label(value='0.0%')\n",
    "\n",
    "download_count = 0\n",
    "def progress_cb(increment):\n",
    "  global download_count\n",
    "  download_count += increment\n",
    "  progress_bar.value = download_count\n",
    "  progress_label.value = f'{download_count}/{download_total} ({download_count/download_total:2.1%})'"
   ]
  },
  {
   "cell_type": "code",
   "execution_count": 24,
   "metadata": {
    "colab": {
     "base_uri": "https://localhost:8080/",
     "height": 503,
     "referenced_widgets": [
      "12fbc8c80b5b49a0b4ef0179b04ae717",
      "08663f770af145ffb04091c1b9779e79",
      "41820e67e37b4d439280fce91fb6f3f6",
      "8072171237304e889f5c1c61e01b52ec",
      "cf99de822c5941dd9cb2c87ed79d5303",
      "245eee52fe52482691ffaff2f176bacb",
      "358b4c57ae004e58b18f807d4bd60941",
      "3fc66d8622a8463f9f11f753aa1a4f81"
     ]
    },
    "id": "Ik5Lp8qws1_-",
    "outputId": "402c86a7-6f1c-4a3d-cb5a-2522f0e28923"
   },
   "outputs": [
    {
     "data": {
      "application/vnd.jupyter.widget-view+json": {
       "model_id": "418cf9045d6943bfbda818739fab8281",
       "version_major": 2,
       "version_minor": 0
      },
      "text/plain": [
       "HBox(children=(IntProgress(value=201731, bar_style='success', description='Retrieving:', max=201731), Label(va…"
      ]
     },
     "metadata": {},
     "output_type": "display_data"
    },
    {
     "name": "stderr",
     "output_type": "stream",
     "text": [
      "INFO:__main__:Retrieving text content for segment 'deu_20s' (3079 urls)\n",
      "INFO:__main__:Retrieving text content for segment 'deu_30s' (283 urls)\n",
      "INFO:__main__:Retrieving text content for segment 'lav_20s' (97301 urls)\n"
     ]
    },
    {
     "name": "stdout",
     "output_type": "stream",
     "text": [
      "/home/jovyan/work/fulltext_cache\n"
     ]
    },
    {
     "name": "stderr",
     "output_type": "stream",
     "text": [
      "INFO:__main__:Retrieving text content for segment 'lav_30s' (101068 urls)\n"
     ]
    }
   ],
   "source": [
    "display(widgets.HBox([progress_bar, progress_label]))\n",
    "\n",
    "# retrieve text for segments\n",
    "segments_text = {}\n",
    "download_count = 0\n",
    "\n",
    "%cd \"$db_dir\"\n",
    "with sqlite3.connect(db_path) as db_conn:\n",
    "  for seg_name in segments_urls:\n",
    "    urls = segments_urls[seg_name]\n",
    "    logger.info(f\"Retrieving text content for segment '{seg_name}' ({len(urls)} urls)\")\n",
    "    segments_text[seg_name] = get_fulltext(urls, db_conn, progress_cb)\n",
    "    db_conn.commit()\n",
    "\n",
    "progress_bar.bar_style = 'success'"
   ]
  },
  {
   "cell_type": "markdown",
   "metadata": {
    "id": "c9Grsf6Saaa0"
   },
   "source": [
    "We now save the retrieved text content to disk for later use"
   ]
  },
  {
   "cell_type": "code",
   "execution_count": 25,
   "metadata": {
    "id": "rlOP7V3Oe6om"
   },
   "outputs": [
    {
     "name": "stderr",
     "output_type": "stream",
     "text": [
      "INFO:__main__:Writing all text for segment 'deu_20s' to '/home/jovyan/work/fulltext_cache/output/deu_20s.txt'\n",
      "INFO:__main__:41932571 characters written\n",
      "INFO:__main__:Writing all text for segment 'deu_30s' to '/home/jovyan/work/fulltext_cache/output/deu_30s.txt'\n",
      "INFO:__main__:1648545 characters written\n",
      "INFO:__main__:Writing all text for segment 'lav_20s' to '/home/jovyan/work/fulltext_cache/output/lav_20s.txt'\n",
      "INFO:__main__:1338445598 characters written\n",
      "INFO:__main__:Writing all text for segment 'lav_30s' to '/home/jovyan/work/fulltext_cache/output/lav_30s.txt'\n",
      "INFO:__main__:1325724677 characters written\n"
     ]
    }
   ],
   "source": [
    "# save retrieved text to file\n",
    "if OUTPUT_ON_GOOGLE_DRIVE:\n",
    "  output_dir = f'{GOOGLE_DRIVE_BASE_DIR}/{OUTPUT_DIR}'\n",
    "else:\n",
    "  output_dir = f'{script_path}/{OUTPUT_DIR}'\n",
    "\n",
    "os.makedirs(output_dir, exist_ok=True)\n",
    "for seg_name in segments_text:\n",
    "  filename=f'{output_dir}/{seg_name}.txt'\n",
    "  with open(filename, 'w') as out_file:\n",
    "    logger.info(f\"Writing all text for segment '{seg_name}' to '{filename}'\")\n",
    "    written = sum([out_file.write(text) for text in segments_text[seg_name]])\n",
    "    logger.info(f'{written} characters written')"
   ]
  },
  {
   "cell_type": "markdown",
   "metadata": {
    "id": "2BhysRFdaiVG"
   },
   "source": [
    "# Processing"
   ]
  },
  {
   "cell_type": "markdown",
   "metadata": {
    "id": "1Qw8b771akgL"
   },
   "source": [
    "We run the [Tensorflow tokenizer](https://www.tensorflow.org/api_docs/python/tf/keras/preprocessing/text/Tokenizer) on each of the data segments"
   ]
  },
  {
   "cell_type": "code",
   "execution_count": 26,
   "metadata": {
    "id": "Y4-IbXyKhSse"
   },
   "outputs": [
    {
     "name": "stderr",
     "output_type": "stream",
     "text": [
      "INFO:__main__:Running tokenizer on text for 'deu_20s'\n",
      "INFO:__main__:Running tokenizer on text for 'deu_30s'\n",
      "INFO:__main__:Running tokenizer on text for 'lav_20s'\n",
      "INFO:__main__:Running tokenizer on text for 'lav_30s'\n"
     ]
    }
   ],
   "source": [
    "# Run tokenizer\n",
    "from tensorflow.keras.preprocessing.text import Tokenizer\n",
    "\n",
    "segments_tokenized = {}\n",
    "for seg_name in segments_text:\n",
    "  logger.info(f\"Running tokenizer on text for '{seg_name}'\")\n",
    "  tokenizer = Tokenizer(num_words = 1000)\n",
    "  tokenizer.fit_on_texts(segments_text[seg_name])\n",
    "  segments_tokenized[seg_name] = tokenizer.word_index\n"
   ]
  },
  {
   "cell_type": "markdown",
   "metadata": {
    "id": "fxF7uYE1aooT"
   },
   "source": [
    "Saving the token collections to disk for later use"
   ]
  },
  {
   "cell_type": "code",
   "execution_count": 27,
   "metadata": {
    "id": "-tVlL99UmEuq"
   },
   "outputs": [
    {
     "name": "stderr",
     "output_type": "stream",
     "text": [
      "INFO:__main__:Writing all text for segment 'deu_20s' to './output/deu_20s_tokenized.json'\n",
      "INFO:__main__:Preview: ['der', 'die', 'und', 'in', 'zu', 'von', 'den', 'mit', 'des', 'das']...\n",
      "INFO:__main__:Writing all text for segment 'deu_30s' to './output/deu_30s_tokenized.json'\n",
      "INFO:__main__:Preview: ['der', 'die', 'und', 'in', 'den', 'des', 'zu', 'das', 'von', '—']...\n",
      "INFO:__main__:Writing all text for segment 'lav_20s' to './output/lav_20s_tokenized.json'\n",
      "INFO:__main__:Preview: ['un', 'no', 'ar', 'par', 'ka', '—', 'i', 'us', 's', 'a']...\n",
      "INFO:__main__:Writing all text for segment 'lav_30s' to './output/lav_30s_tokenized.json'\n",
      "INFO:__main__:Preview: ['un', 'ar', 'no', '—', 'ka', 'par', 'us', 'ari', 'i', 'ir']...\n"
     ]
    }
   ],
   "source": [
    "# save tokenizer output to file\n",
    "if OUTPUT_ON_GOOGLE_DRIVE:\n",
    "  output_dir = f'{GOOGLE_DRIVE_BASE_DIR}/{OUTPUT_DIR}'\n",
    "else:\n",
    "  output_dir = f'{script_path}/{OUTPUT_DIR}'\n",
    "\n",
    "os.makedirs(output_dir, exist_ok=True)\n",
    "for seg_name in segments_tokenized:\n",
    "  filename=f'{output_dir}/{seg_name}_tokenized.json'\n",
    "  with open(filename, 'w') as out_file:\n",
    "    logger.info(f\"Writing all text for segment '{seg_name}' to '{filename}'\")\n",
    "    logger.info(f\"Preview: {list(segments_tokenized[seg_name])[:10]}...\")\n",
    "    json.dump(segments_tokenized[seg_name], out_file)"
   ]
  }
 ],
 "metadata": {
  "colab": {
   "authorship_tag": "ABX9TyMJkE3IVHY7Dckbywxm4f+j",
   "collapsed_sections": [],
   "name": "europeana-fulltext-processing-example1",
   "provenance": []
  },
  "kernelspec": {
   "display_name": "Python 3 (ipykernel)",
   "language": "python",
   "name": "python3"
  },
  "language_info": {
   "codemirror_mode": {
    "name": "ipython",
    "version": 3
   },
   "file_extension": ".py",
   "mimetype": "text/x-python",
   "name": "python",
   "nbconvert_exporter": "python",
   "pygments_lexer": "ipython3",
   "version": "3.9.7"
  },
  "widgets": {
   "application/vnd.jupyter.widget-state+json": {
    "08663f770af145ffb04091c1b9779e79": {
     "model_module": "@jupyter-widgets/base",
     "model_module_version": "1.2.0",
     "model_name": "LayoutModel",
     "state": {
      "_model_module": "@jupyter-widgets/base",
      "_model_module_version": "1.2.0",
      "_model_name": "LayoutModel",
      "_view_count": null,
      "_view_module": "@jupyter-widgets/base",
      "_view_module_version": "1.2.0",
      "_view_name": "LayoutView",
      "align_content": null,
      "align_items": null,
      "align_self": null,
      "border": null,
      "bottom": null,
      "display": null,
      "flex": null,
      "flex_flow": null,
      "grid_area": null,
      "grid_auto_columns": null,
      "grid_auto_flow": null,
      "grid_auto_rows": null,
      "grid_column": null,
      "grid_gap": null,
      "grid_row": null,
      "grid_template_areas": null,
      "grid_template_columns": null,
      "grid_template_rows": null,
      "height": null,
      "justify_content": null,
      "justify_items": null,
      "left": null,
      "margin": null,
      "max_height": null,
      "max_width": null,
      "min_height": null,
      "min_width": null,
      "object_fit": null,
      "object_position": null,
      "order": null,
      "overflow": null,
      "overflow_x": null,
      "overflow_y": null,
      "padding": null,
      "right": null,
      "top": null,
      "visibility": null,
      "width": null
     }
    },
    "12fbc8c80b5b49a0b4ef0179b04ae717": {
     "model_module": "@jupyter-widgets/controls",
     "model_module_version": "1.5.0",
     "model_name": "HBoxModel",
     "state": {
      "_dom_classes": [],
      "_model_module": "@jupyter-widgets/controls",
      "_model_module_version": "1.5.0",
      "_model_name": "HBoxModel",
      "_view_count": null,
      "_view_module": "@jupyter-widgets/controls",
      "_view_module_version": "1.5.0",
      "_view_name": "HBoxView",
      "box_style": "",
      "children": [
       "IPY_MODEL_41820e67e37b4d439280fce91fb6f3f6",
       "IPY_MODEL_8072171237304e889f5c1c61e01b52ec"
      ],
      "layout": "IPY_MODEL_08663f770af145ffb04091c1b9779e79"
     }
    },
    "245eee52fe52482691ffaff2f176bacb": {
     "model_module": "@jupyter-widgets/base",
     "model_module_version": "1.2.0",
     "model_name": "LayoutModel",
     "state": {
      "_model_module": "@jupyter-widgets/base",
      "_model_module_version": "1.2.0",
      "_model_name": "LayoutModel",
      "_view_count": null,
      "_view_module": "@jupyter-widgets/base",
      "_view_module_version": "1.2.0",
      "_view_name": "LayoutView",
      "align_content": null,
      "align_items": null,
      "align_self": null,
      "border": null,
      "bottom": null,
      "display": null,
      "flex": null,
      "flex_flow": null,
      "grid_area": null,
      "grid_auto_columns": null,
      "grid_auto_flow": null,
      "grid_auto_rows": null,
      "grid_column": null,
      "grid_gap": null,
      "grid_row": null,
      "grid_template_areas": null,
      "grid_template_columns": null,
      "grid_template_rows": null,
      "height": null,
      "justify_content": null,
      "justify_items": null,
      "left": null,
      "margin": null,
      "max_height": null,
      "max_width": null,
      "min_height": null,
      "min_width": null,
      "object_fit": null,
      "object_position": null,
      "order": null,
      "overflow": null,
      "overflow_x": null,
      "overflow_y": null,
      "padding": null,
      "right": null,
      "top": null,
      "visibility": null,
      "width": null
     }
    },
    "358b4c57ae004e58b18f807d4bd60941": {
     "model_module": "@jupyter-widgets/controls",
     "model_module_version": "1.5.0",
     "model_name": "DescriptionStyleModel",
     "state": {
      "_model_module": "@jupyter-widgets/controls",
      "_model_module_version": "1.5.0",
      "_model_name": "DescriptionStyleModel",
      "_view_count": null,
      "_view_module": "@jupyter-widgets/base",
      "_view_module_version": "1.2.0",
      "_view_name": "StyleView",
      "description_width": ""
     }
    },
    "3fc66d8622a8463f9f11f753aa1a4f81": {
     "model_module": "@jupyter-widgets/base",
     "model_module_version": "1.2.0",
     "model_name": "LayoutModel",
     "state": {
      "_model_module": "@jupyter-widgets/base",
      "_model_module_version": "1.2.0",
      "_model_name": "LayoutModel",
      "_view_count": null,
      "_view_module": "@jupyter-widgets/base",
      "_view_module_version": "1.2.0",
      "_view_name": "LayoutView",
      "align_content": null,
      "align_items": null,
      "align_self": null,
      "border": null,
      "bottom": null,
      "display": null,
      "flex": null,
      "flex_flow": null,
      "grid_area": null,
      "grid_auto_columns": null,
      "grid_auto_flow": null,
      "grid_auto_rows": null,
      "grid_column": null,
      "grid_gap": null,
      "grid_row": null,
      "grid_template_areas": null,
      "grid_template_columns": null,
      "grid_template_rows": null,
      "height": null,
      "justify_content": null,
      "justify_items": null,
      "left": null,
      "margin": null,
      "max_height": null,
      "max_width": null,
      "min_height": null,
      "min_width": null,
      "object_fit": null,
      "object_position": null,
      "order": null,
      "overflow": null,
      "overflow_x": null,
      "overflow_y": null,
      "padding": null,
      "right": null,
      "top": null,
      "visibility": null,
      "width": null
     }
    },
    "41820e67e37b4d439280fce91fb6f3f6": {
     "model_module": "@jupyter-widgets/controls",
     "model_module_version": "1.5.0",
     "model_name": "IntProgressModel",
     "state": {
      "_dom_classes": [],
      "_model_module": "@jupyter-widgets/controls",
      "_model_module_version": "1.5.0",
      "_model_name": "IntProgressModel",
      "_view_count": null,
      "_view_module": "@jupyter-widgets/controls",
      "_view_module_version": "1.5.0",
      "_view_name": "ProgressView",
      "bar_style": "info",
      "description": "Retrieving:",
      "description_tooltip": null,
      "layout": "IPY_MODEL_245eee52fe52482691ffaff2f176bacb",
      "max": 201731,
      "min": 0,
      "orientation": "horizontal",
      "style": "IPY_MODEL_cf99de822c5941dd9cb2c87ed79d5303",
      "value": 3364
     }
    },
    "8072171237304e889f5c1c61e01b52ec": {
     "model_module": "@jupyter-widgets/controls",
     "model_module_version": "1.5.0",
     "model_name": "LabelModel",
     "state": {
      "_dom_classes": [],
      "_model_module": "@jupyter-widgets/controls",
      "_model_module_version": "1.5.0",
      "_model_name": "LabelModel",
      "_view_count": null,
      "_view_module": "@jupyter-widgets/controls",
      "_view_module_version": "1.5.0",
      "_view_name": "LabelView",
      "description": "",
      "description_tooltip": null,
      "layout": "IPY_MODEL_3fc66d8622a8463f9f11f753aa1a4f81",
      "placeholder": "​",
      "style": "IPY_MODEL_358b4c57ae004e58b18f807d4bd60941",
      "value": "3364/201731 (1.7%)"
     }
    },
    "cf99de822c5941dd9cb2c87ed79d5303": {
     "model_module": "@jupyter-widgets/controls",
     "model_module_version": "1.5.0",
     "model_name": "ProgressStyleModel",
     "state": {
      "_model_module": "@jupyter-widgets/controls",
      "_model_module_version": "1.5.0",
      "_model_name": "ProgressStyleModel",
      "_view_count": null,
      "_view_module": "@jupyter-widgets/base",
      "_view_module_version": "1.2.0",
      "_view_name": "StyleView",
      "bar_color": null,
      "description_width": ""
     }
    }
   }
  }
 },
 "nbformat": 4,
 "nbformat_minor": 4
}
