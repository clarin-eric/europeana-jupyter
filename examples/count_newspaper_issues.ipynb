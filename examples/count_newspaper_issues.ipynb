{
 "cells": [
  {
   "cell_type": "code",
   "execution_count": 4,
   "id": "387ad792-4796-4783-9b48-21aed147cc19",
   "metadata": {},
   "outputs": [],
   "source": [
    "sets = {\"9200300\": \"Austria\",\n",
    "        \"9200301\": \"Finland\",\n",
    "        \"9200303\": \"Latvia\",\n",
    "        \"9200338\": \"Hamburg\",\n",
    "        \"9200339\": \"Serbia\",\n",
    "        \"9200355\": \"Berlin\",\n",
    "        \"9200356\": \"Estonia\",\n",
    "        \"9200357\": \"Poland\",\n",
    "        \"9200359\": \"Netherlands\",\n",
    "        \"9200396\": \"Luxembourg\"}\n",
    "total_count = 0"
   ]
  },
  {
   "cell_type": "code",
   "execution_count": 5,
   "id": "13345697-a681-4871-8c77-f40858510459",
   "metadata": {},
   "outputs": [
    {
     "name": "stdout",
     "output_type": "stream",
     "text": [
      "Retrieving https://europeana-oai.clarin.eu/metadata/fulltext-aggregation/9200300.zip\n",
      "Number of issues found in set 9200300 (Austria): 147515\n",
      "Retrieving https://europeana-oai.clarin.eu/metadata/fulltext-aggregation/9200301.zip\n",
      "Number of issues found in set 9200301 (Finland): 24164\n",
      "Retrieving https://europeana-oai.clarin.eu/metadata/fulltext-aggregation/9200303.zip\n",
      "Number of issues found in set 9200303 (Latvia): 67870\n",
      "Retrieving https://europeana-oai.clarin.eu/metadata/fulltext-aggregation/9200338.zip\n",
      "Number of issues found in set 9200338 (Hamburg): 130938\n",
      "Retrieving https://europeana-oai.clarin.eu/metadata/fulltext-aggregation/9200339.zip\n",
      "Number of issues found in set 9200339 (Serbia): 22087\n",
      "Retrieving https://europeana-oai.clarin.eu/metadata/fulltext-aggregation/9200355.zip\n",
      "Number of issues found in set 9200355 (Berlin): 134708\n",
      "Retrieving https://europeana-oai.clarin.eu/metadata/fulltext-aggregation/9200356.zip\n",
      "Number of issues found in set 9200356 (Estonia): 92558\n",
      "Retrieving https://europeana-oai.clarin.eu/metadata/fulltext-aggregation/9200357.zip\n",
      "Number of issues found in set 9200357 (Poland): 15130\n",
      "Retrieving https://europeana-oai.clarin.eu/metadata/fulltext-aggregation/9200359.zip\n",
      "Number of issues found in set 9200359 (Netherlands): 4266\n",
      "Retrieving https://europeana-oai.clarin.eu/metadata/fulltext-aggregation/9200396.zip\n",
      "Number of issues found in set 9200396 (Luxembourg): 1225\n"
     ]
    }
   ],
   "source": [
    "import re, requests\n",
    "from io import BytesIO\n",
    "from zipfile import ZipFile\n",
    "\n",
    "for set in sets:\n",
    "    md_zip_url = f'https://europeana-oai.clarin.eu/metadata/fulltext-aggregation/{set}.zip'\n",
    "    print(f'Retrieving {md_zip_url}')\n",
    "    resp = requests.get(md_zip_url)\n",
    "    zipfile = ZipFile(BytesIO(resp.content))\n",
    "    files = [zipfile.open(file_name) for file_name in zipfile.namelist()]\n",
    "    \n",
    "    set_count = 0\n",
    "    for file_name in zipfile.namelist():\n",
    "        with zipfile.open(file_name, mode='r') as file:\n",
    "            for line in file:\n",
    "                text = line.decode('UTF-8')\n",
    "                set_count += len(re.findall('https://www.europeana.eu/item/\\d+/BibliographicResource_\\d+', text))\n",
    "    print(f'Number of issues found in set {set} ({sets[set]}): {set_count}')\n",
    "    total_count += set_count"
   ]
  },
  {
   "cell_type": "code",
   "execution_count": 3,
   "id": "75bbbdc1-a332-4be7-be77-407ce928e7e0",
   "metadata": {},
   "outputs": [
    {
     "name": "stdout",
     "output_type": "stream",
     "text": [
      "Total number of issues found in 10 sets: 640461\n"
     ]
    }
   ],
   "source": [
    "print(f'Total number of issues found in {len(sets)} sets: {total_count}')"
   ]
  }
 ],
 "metadata": {
  "kernelspec": {
   "display_name": "Python 3 (ipykernel)",
   "language": "python",
   "name": "python3"
  },
  "language_info": {
   "codemirror_mode": {
    "name": "ipython",
    "version": 3
   },
   "file_extension": ".py",
   "mimetype": "text/x-python",
   "name": "python",
   "nbconvert_exporter": "python",
   "pygments_lexer": "ipython3",
   "version": "3.9.10"
  }
 },
 "nbformat": 4,
 "nbformat_minor": 5
}
