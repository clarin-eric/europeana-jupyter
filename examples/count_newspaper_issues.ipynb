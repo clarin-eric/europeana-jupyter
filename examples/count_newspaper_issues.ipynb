{
 "cells": [
  {
   "cell_type": "code",
   "execution_count": 1,
   "id": "387ad792-4796-4783-9b48-21aed147cc19",
   "metadata": {},
   "outputs": [],
   "source": [
    "sets = [\"9200300\",\"9200301\",\"9200303\",\"9200338\",\"9200339\",\"9200355\",\"9200356\",\"9200357\",\"9200359\",\"9200396\"]\n",
    "total_count = 0"
   ]
  },
  {
   "cell_type": "code",
   "execution_count": 2,
   "id": "13345697-a681-4871-8c77-f40858510459",
   "metadata": {},
   "outputs": [
    {
     "name": "stdout",
     "output_type": "stream",
     "text": [
      "Retrieving https://europeana-oai.clarin.eu/metadata/fulltext-aggregation/9200300.zip\n",
      "Number of issues found in set 9200300: 147515\n",
      "Retrieving https://europeana-oai.clarin.eu/metadata/fulltext-aggregation/9200301.zip\n",
      "Number of issues found in set 9200301: 24164\n",
      "Retrieving https://europeana-oai.clarin.eu/metadata/fulltext-aggregation/9200303.zip\n",
      "Number of issues found in set 9200303: 67870\n",
      "Retrieving https://europeana-oai.clarin.eu/metadata/fulltext-aggregation/9200338.zip\n",
      "Number of issues found in set 9200338: 130938\n",
      "Retrieving https://europeana-oai.clarin.eu/metadata/fulltext-aggregation/9200339.zip\n",
      "Number of issues found in set 9200339: 22087\n",
      "Retrieving https://europeana-oai.clarin.eu/metadata/fulltext-aggregation/9200355.zip\n",
      "Number of issues found in set 9200355: 134708\n",
      "Retrieving https://europeana-oai.clarin.eu/metadata/fulltext-aggregation/9200356.zip\n",
      "Number of issues found in set 9200356: 92558\n",
      "Retrieving https://europeana-oai.clarin.eu/metadata/fulltext-aggregation/9200357.zip\n",
      "Number of issues found in set 9200357: 15130\n",
      "Retrieving https://europeana-oai.clarin.eu/metadata/fulltext-aggregation/9200359.zip\n",
      "Number of issues found in set 9200359: 4266\n",
      "Retrieving https://europeana-oai.clarin.eu/metadata/fulltext-aggregation/9200396.zip\n",
      "Number of issues found in set 9200396: 1225\n"
     ]
    }
   ],
   "source": [
    "import re, requests\n",
    "from io import BytesIO\n",
    "from zipfile import ZipFile\n",
    "\n",
    "for set in sets:\n",
    "    md_zip_url = f'https://europeana-oai.clarin.eu/metadata/fulltext-aggregation/{set}.zip'\n",
    "    print(f'Retrieving {md_zip_url}')\n",
    "    resp = requests.get(md_zip_url)\n",
    "    zipfile = ZipFile(BytesIO(resp.content))\n",
    "    files = [zipfile.open(file_name) for file_name in zipfile.namelist()]\n",
    "    \n",
    "    set_count = 0\n",
    "    for file_name in zipfile.namelist():\n",
    "        with zipfile.open(file_name, mode='r') as file:\n",
    "            for line in file:\n",
    "                text = line.decode('UTF-8')\n",
    "                set_count += len(re.findall('https://www.europeana.eu/item/\\d+/BibliographicResource_\\d+', text))\n",
    "    print(f'Number of issues found in set {set}: {set_count}')\n",
    "    total_count += set_count"
   ]
  },
  {
   "cell_type": "code",
   "execution_count": 3,
   "id": "75bbbdc1-a332-4be7-be77-407ce928e7e0",
   "metadata": {},
   "outputs": [
    {
     "name": "stdout",
     "output_type": "stream",
     "text": [
      "Total number of issues found in 10 sets: 640461\n"
     ]
    }
   ],
   "source": [
    "print(f'Total number of issues found in {len(sets)} sets: {total_count}')"
   ]
  }
 ],
 "metadata": {
  "kernelspec": {
   "display_name": "Python 3 (ipykernel)",
   "language": "python",
   "name": "python3"
  },
  "language_info": {
   "codemirror_mode": {
    "name": "ipython",
    "version": 3
   },
   "file_extension": ".py",
   "mimetype": "text/x-python",
   "name": "python",
   "nbconvert_exporter": "python",
   "pygments_lexer": "ipython3",
   "version": "3.9.10"
  }
 },
 "nbformat": 4,
 "nbformat_minor": 5
}
