{
 "cells": [
  {
   "cell_type": "markdown",
   "id": "252b2564-b8d7-4980-9003-bbcbc30f416c",
   "metadata": {},
   "source": [
    "# Configuration\n",
    "\n",
    "Configure the dataset to process. For a list of available datasets, see the contents of the `data` directory."
   ]
  },
  {
   "cell_type": "code",
   "execution_count": 7,
   "id": "1cee204d-79c6-431c-a5c6-093352fedc91",
   "metadata": {},
   "outputs": [],
   "source": [
    "sets = {\"9200300\": \"Austria\",\n",
    "        \"9200301\": \"Finland\",\n",
    "        \"9200303\": \"Latvia\",\n",
    "        \"9200338\": \"Hamburg\",\n",
    "        \"9200339\": \"Serbia\",\n",
    "        \"9200355\": \"Berlin\",\n",
    "        \"9200356\": \"Estonia\",\n",
    "        \"9200357\": \"Poland\",\n",
    "        \"9200359\": \"Netherlands\",\n",
    "        \"9200396\": \"Luxembourg\"}\n",
    "\n",
    "data_dir = '../data'"
   ]
  },
  {
   "cell_type": "markdown",
   "id": "16db0e25-505d-4711-8a26-9bd4e2c30a09",
   "metadata": {},
   "source": [
    "# Data loading\n",
    "\n",
    "Load the JSON object from the dataset directory that provides a mapping from object identifier to the text file with full text content."
   ]
  },
  {
   "cell_type": "code",
   "execution_count": 8,
   "id": "bca765f6-4062-4611-992b-e1f079d806fe",
   "metadata": {},
   "outputs": [],
   "source": [
    "import json\n",
    "\n",
    "maps = {}\n",
    "for dataset in sets:\n",
    "    data_set_dir = f'{data_dir}/{dataset}'\n",
    "    with open(f'{data_set_dir}/id_file_map.json','r') as f:\n",
    "        map = json.load(f)\n",
    "\n",
    "    f'Loaded map for data set {dataset}: {len(map):,} items'\n",
    "    maps[dataset] = map"
   ]
  },
  {
   "cell_type": "markdown",
   "id": "ad81f162-d453-4be1-9178-4e8142090228",
   "metadata": {},
   "source": [
    "# Processing\n",
    "\n",
    "Count the total number of words (whitespace separated substrings) in the entire dataset."
   ]
  },
  {
   "cell_type": "code",
   "execution_count": 9,
   "id": "c618bf27-000a-48c7-b1cb-7658d86e24cc",
   "metadata": {},
   "outputs": [
    {
     "name": "stdout",
     "output_type": "stream",
     "text": [
      "Counting words in 9200300 (Austria)\n",
      "Total word count for 9200300 (Austria): 2,351,079,191 words\n",
      "Counting words in 9200301 (Finland)\n",
      "Total word count for 9200301 (Finland): 393,776,815 words\n",
      "Counting words in 9200303 (Latvia)\n",
      "Total word count for 9200303 (Latvia): 964,243,746 words\n",
      "Counting words in 9200338 (Hamburg)\n",
      "Total word count for 9200338 (Hamburg): 5,593,768,847 words\n",
      "Counting words in 9200339 (Serbia)\n",
      "Total word count for 9200339 (Serbia): 338,080,416 words\n",
      "Counting words in 9200355 (Berlin)\n",
      "Total word count for 9200355 (Berlin): 2,996,820,265 words\n",
      "Counting words in 9200356 (Estonia)\n",
      "Total word count for 9200356 (Estonia): 351,656,185 words\n",
      "Counting words in 9200357 (Poland)\n",
      "Total word count for 9200357 (Poland): 181,102,489 words\n",
      "Counting words in 9200359 (Netherlands)\n",
      "Total word count for 9200359 (Netherlands): 2,869,483,985 words\n",
      "Counting words in 9200396 (Luxembourg)\n",
      "Total word count for 9200396 (Luxembourg): 29,266,765 words\n"
     ]
    }
   ],
   "source": [
    "for dataset in maps:\n",
    "    map = maps[dataset]\n",
    "    word_count = 0\n",
    "    print(f'Counting words in {dataset} ({sets[dataset]})')\n",
    "    for id in map:\n",
    "        filename = map[id]\n",
    "        data_set_dir = f'{data_dir}/{dataset}'\n",
    "        with open(f'{data_set_dir}/{filename}', 'r') as file:\n",
    "            for line in file.readlines():\n",
    "                word_count += len(str.split(line))\n",
    "\n",
    "    print(f'Total word count for {dataset} ({sets[dataset]}): {word_count:,} words')"
   ]
  }
 ],
 "metadata": {
  "kernelspec": {
   "display_name": "Python 3 (ipykernel)",
   "language": "python",
   "name": "python3"
  },
  "language_info": {
   "codemirror_mode": {
    "name": "ipython",
    "version": 3
   },
   "file_extension": ".py",
   "mimetype": "text/x-python",
   "name": "python",
   "nbconvert_exporter": "python",
   "pygments_lexer": "ipython3",
   "version": "3.9.10"
  }
 },
 "nbformat": 4,
 "nbformat_minor": 5
}
