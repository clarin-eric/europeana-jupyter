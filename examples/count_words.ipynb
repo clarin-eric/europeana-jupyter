{
 "cells": [
  {
   "cell_type": "markdown",
   "id": "252b2564-b8d7-4980-9003-bbcbc30f416c",
   "metadata": {},
   "source": [
    "# Configuration\n",
    "\n",
    "Configure the dataset to process. For a list of available datasets, see the contents of the `data` directory."
   ]
  },
  {
   "cell_type": "code",
   "execution_count": 4,
   "id": "1cee204d-79c6-431c-a5c6-093352fedc91",
   "metadata": {},
   "outputs": [],
   "source": [
    "dataset = '9200356'"
   ]
  },
  {
   "cell_type": "markdown",
   "id": "16db0e25-505d-4711-8a26-9bd4e2c30a09",
   "metadata": {},
   "source": [
    "# Data loading\n",
    "\n",
    "Load the JSON object from the dataset directory that provides a mapping from object identifier to the text file with full text content."
   ]
  },
  {
   "cell_type": "code",
   "execution_count": 11,
   "id": "bca765f6-4062-4611-992b-e1f079d806fe",
   "metadata": {},
   "outputs": [
    {
     "data": {
      "text/plain": [
       "'Loaded map for data set 9200356: 28,127 items'"
      ]
     },
     "execution_count": 11,
     "metadata": {},
     "output_type": "execute_result"
    }
   ],
   "source": [
    "import json\n",
    "\n",
    "datadir = f'../data/{dataset}'\n",
    "with open(f'{datadir}/id_file_map.json','r') as f:\n",
    "    map = json.load(f)\n",
    "\n",
    "f'Loaded map for data set {dataset}: {len(map):,} items'"
   ]
  },
  {
   "cell_type": "markdown",
   "id": "ad81f162-d453-4be1-9178-4e8142090228",
   "metadata": {},
   "source": [
    "# Processing\n",
    "\n",
    "Count the total number of words (whitespace separated substrings) in the entire dataset."
   ]
  },
  {
   "cell_type": "code",
   "execution_count": 7,
   "id": "c618bf27-000a-48c7-b1cb-7658d86e24cc",
   "metadata": {},
   "outputs": [
    {
     "data": {
      "text/plain": [
       "'Total word count: 351,656,185'"
      ]
     },
     "execution_count": 7,
     "metadata": {},
     "output_type": "execute_result"
    }
   ],
   "source": [
    "word_count = 0\n",
    "for id in map:\n",
    "    filename = map[id]\n",
    "    with open(f'{datadir}/{filename}', 'r') as file:\n",
    "        for line in file.readlines():\n",
    "            word_count += len(str.split(line))\n",
    "\n",
    "f'Total word count: {word_count:,} words'"
   ]
  }
 ],
 "metadata": {
  "kernelspec": {
   "display_name": "Python 3 (ipykernel)",
   "language": "python",
   "name": "python3"
  },
  "language_info": {
   "codemirror_mode": {
    "name": "ipython",
    "version": 3
   },
   "file_extension": ".py",
   "mimetype": "text/x-python",
   "name": "python",
   "nbconvert_exporter": "python",
   "pygments_lexer": "ipython3",
   "version": "3.9.10"
  }
 },
 "nbformat": 4,
 "nbformat_minor": 5
}
